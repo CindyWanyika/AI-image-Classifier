{
  "nbformat": 4,
  "nbformat_minor": 0,
  "metadata": {
    "colab": {
      "provenance": [],
      "gpuType": "T4"
    },
    "kernelspec": {
      "name": "python3",
      "display_name": "Python 3"
    },
    "language_info": {
      "name": "python"
    },
    "accelerator": "GPU"
  },
  "cells": [
    {
      "cell_type": "markdown",
      "source": [
        "As AI-generated content becomes increasingly sophisticated, distinguishing real from synthetic media has become a critical ethical challenge. Motivated by a strong interest in ethical AI and combating misinformation, this project explores image classification techniques to detect AI-generated faces,particularly those created using advanced models like Stable Diffusion. Using Python and PyTorch on Google Colab, I fine-tuned a pretrained image classifier (Xception) to differentiate between real human images and synthetic ones, aiming to build a lightweight, effective detection model that contributes to the broader conversation around AI transparency and digital trust."
      ],
      "metadata": {
        "id": "hAWuzCEKtGPQ"
      }
    },
    {
      "cell_type": "markdown",
      "source": [
        "Data Sources:\n",
        "This project uses two primary datasets sourced from Kaggle. The real human face images come from the \"AI Face Detection Dataset\" by shahzaibshazoo, which provides high-quality, unaltered photos of real people. For AI-generated faces, I used the \"AI vs Human Syn Images V2\" dataset by gpch2159, which includes synthetic images created using Stable Diffusion, a state-of-the-art generative AI model. To ensure balanced training, I sampled a subset of the synthetic images to maintain a 1:1 ratio of AI to real faces. These curated datasets provide a realistic and challenging base for training a robust classifier.\n",
        "\n",
        "dataset : https://www.kaggle.com/datasets/shahzaibshazoo/detect-ai-generated-faces-high-quality-dataset/data\n",
        "\n",
        "https://www.kaggle.com/datasets/gpch2159/ai-vs-human-syn-imgs-v2-partial/data?select=stabilityai.stable-diffusion-xl-refiner-1.0_0.5_12_2025.02.25_05.15.08_846327\n"
      ],
      "metadata": {
        "id": "vZ5w0iEWt_1T"
      }
    },
    {
      "cell_type": "code",
      "execution_count": null,
      "metadata": {
        "id": "nZBfHvqLKmnA"
      },
      "outputs": [],
      "source": [
        "# Install necessary libraries\n",
        "!pip install torchvision timm\n"
      ]
    },
    {
      "cell_type": "code",
      "source": [
        "import torch\n",
        "import torchvision\n",
        "import torchvision.transforms as transforms\n",
        "from torch.utils.data import DataLoader\n",
        "import torch.nn as nn\n",
        "import torch.optim as optim\n",
        "from PIL import Image\n",
        "import os\n",
        "import timm  # for pretrained Xception\n",
        "print(\"GPU available:\", torch.cuda.is_available())\n",
        "device = torch.device('cuda' if torch.cuda.is_available() else 'cpu')\n"
      ],
      "metadata": {
        "colab": {
          "base_uri": "https://localhost:8080/"
        },
        "id": "Fzlm-MLNK0L0",
        "outputId": "fc176006-f2e2-4b7b-aaa8-b6347ffaccc5"
      },
      "execution_count": null,
      "outputs": [
        {
          "output_type": "stream",
          "name": "stdout",
          "text": [
            "GPU available: True\n"
          ]
        }
      ]
    },
    {
      "cell_type": "markdown",
      "source": [
        "In this phase of the project, I began by gathering and organizing my image data. I used two publicly available datasets from Kaggle to build a binary classification dataset: one containing **real human face images** and another containing **AI-generated face images**, specifically those created using **Stable Diffusion**, a powerful image generation model.\n",
        "\n",
        "The real image dataset was downloaded from the Kaggle repository titled *“detect-ai-generated-faces-high-quality-dataset”*. From this dataset, I extracted all the images in the `real` folder and labeled them with `1` to indicate that they are authentic, human-taken photographs.\n",
        "\n",
        "For the AI-generated images, I used a separate dataset called *“ai-vs-human-syn-imgs-v2-partial”*, which contains synthetic faces produced by Stable Diffusion. I accessed the relevant subfolder where the generated images were stored and assigned each of them a label `0` to mark them as fake or AI-generated.\n",
        "\n",
        "After collecting both sets of images, I combined their file paths and respective labels into a single **Pandas DataFrame**. This structured dataset is now ready for preprocessing, visualization, and eventually training a classification model. At this stage, I also printed out the number of images in each category to get a quick sense of dataset balance — a step that will inform any future resampling or augmentation decisions.\n"
      ],
      "metadata": {
        "id": "njy6Xuvnt8RJ"
      }
    },
    {
      "cell_type": "code",
      "source": [
        "import os\n",
        "import glob\n",
        "import pandas as pd\n",
        "import kagglehub\n",
        "\n",
        "# 1. Download real image dataset\n",
        "base_dir = kagglehub.dataset_download(\"shahzaibshazoo/detect-ai-generated-faces-high-quality-dataset\")\n",
        "real_image_dir = os.path.join(base_dir, \"AI-face-detection-Dataset\", \"real\")\n",
        "real_images = glob.glob(os.path.join(real_image_dir, \"*.*\"))\n",
        "real_labels = [1] * len(real_images)\n",
        "\n",
        "# 2. Download Stable Diffusion images (AI-generated)\n",
        "sd_base = kagglehub.dataset_download(\"gpch2159/ai-vs-human-syn-imgs-v2-partial\")\n",
        "sd_image_dir = os.path.join(sd_base, \"stabilityai.stable-diffusion-xl-refiner-1.0_0.5_12_2025.02.25_05.15.08_846327\")\n",
        "ai_images = glob.glob(os.path.join(sd_image_dir, \"*.*\"))\n",
        "ai_labels = [0] * len(ai_images)\n",
        "\n",
        "# 3. Combine both into a DataFrame\n",
        "file_paths = real_images + ai_images\n",
        "labels = real_labels + ai_labels\n",
        "df = pd.DataFrame({'file_path': file_paths, 'label': labels})\n",
        "\n",
        "# 4. Print counts\n",
        "print(\"Stable Diffusion (AI) images found:\", len(ai_images))\n",
        "print(\"Real images found:\", len(real_images))\n",
        "print(\"Total images:\", len(df))\n"
      ],
      "metadata": {
        "colab": {
          "base_uri": "https://localhost:8080/"
        },
        "id": "5tgo0teHyN-k",
        "outputId": "e89ef510-4b6e-402e-9918-21be322723ad"
      },
      "execution_count": null,
      "outputs": [
        {
          "output_type": "stream",
          "name": "stdout",
          "text": [
            "Stable Diffusion (AI) images found: 30440\n",
            "Real images found: 2202\n",
            "Total images: 32642\n"
          ]
        }
      ]
    },
    {
      "cell_type": "markdown",
      "source": [
        "This block balances the dataset by sampling a smaller subset of AI-generated images to achieve a 1.5:1 ratio of fake to real images. First, it creates separate DataFrames for real and AI images with their respective labels (1 for real, 0 for AI). Then, it randomly selects a subset of AI images equal to 1.5 times the number of real images. Finally, the sampled AI images and real images are combined, shuffled, and reset into a new balanced DataFrame. The class distribution is printed at the end to verify the result."
      ],
      "metadata": {
        "id": "YwOdmHVJvjm1"
      }
    },
    {
      "cell_type": "code",
      "source": [
        "import pandas as pd\n",
        "\n",
        "# 1. Convert lists to DataFrames\n",
        "real_df = pd.DataFrame({'file_path': real_images, 'label': 1})\n",
        "ai_df = pd.DataFrame({'file_path': ai_images, 'label': 0})\n",
        "\n",
        "# 2. Sample 1.5x AI images\n",
        "ai_sample_size = int(1 * len(real_df))\n",
        "ai_df_sampled = ai_df.sample(n=ai_sample_size, random_state=42)\n",
        "\n",
        "# 3. Combine and shuffle\n",
        "df = pd.concat([real_df, ai_df_sampled], ignore_index=True)\n",
        "df = df.sample(frac=1, random_state=42).reset_index(drop=True)\n",
        "\n",
        "# 4. Confirm new balance\n",
        "print(\"Class distribution:\\n\", df['label'].value_counts())\n"
      ],
      "metadata": {
        "id": "6pbj8qedp82A"
      },
      "execution_count": null,
      "outputs": []
    },
    {
      "cell_type": "code",
      "source": [
        "'''import os\n",
        "import glob\n",
        "import pandas as pd\n",
        "from sklearn.model_selection import train_test_split\n",
        "import kagglehub\n",
        "\n",
        "# Dataset base path from KaggleHub\n",
        "base_dir = kagglehub.dataset_download(\"shahzaibshazoo/detect-ai-generated-faces-high-quality-dataset\")\n",
        "\n",
        "# Construct image directories\n",
        "ai_image_dir = os.path.join(base_dir, \"AI-face-detection-Dataset\", \"AI\")\n",
        "real_image_dir = os.path.join(base_dir, \"AI-face-detection-Dataset\", \"real\")\n",
        "\n",
        "# Load image file paths\n",
        "ai_images = glob.glob(os.path.join(ai_image_dir, \"*.*\"))\n",
        "real_images = glob.glob(os.path.join(real_image_dir, \"*.*\"))\n",
        "\n",
        "print(\"AI images found:\", len(ai_images))\n",
        "print(\"Real images found:\", len(real_images))\n",
        "\n",
        "# Label AI images as 1, real as 0\n",
        "df_ai = pd.DataFrame({\"file_name\": ai_images, \"label\": 1})\n",
        "df_real = pd.DataFrame({\"file_name\": real_images, \"label\": 0})\n",
        "\n",
        "# Combine the two\n",
        "df = pd.concat([df_ai, df_real], ignore_index=True)\n",
        "df = df.sample(frac=1, random_state=42).reset_index(drop=True)  # shuffle'''"
      ],
      "metadata": {
        "id": "s3QLzR_LWrzA"
      },
      "execution_count": null,
      "outputs": []
    },
    {
      "cell_type": "code",
      "source": [
        "from sklearn.model_selection import train_test_split\n",
        "\n",
        "train_df, val_df = train_test_split(df, train_size=0.8, stratify=df[\"label\"], random_state=42)\n",
        "\n"
      ],
      "metadata": {
        "id": "1ClbWz9SlvIe"
      },
      "execution_count": null,
      "outputs": []
    },
    {
      "cell_type": "markdown",
      "source": [
        "This block sets up the **data preprocessing and loading** needed for training a PyTorch model.\n",
        "\n",
        "1. **Transformations**:\n",
        "   A transformation pipeline is created using `torchvision.transforms`. It resizes images to **299×299 pixels** (ideal for models like Xception), converts them to tensors, and normalizes pixel values to center them around 0.\n",
        "   Normalization uses a mean and standard deviation of 0.5 for each color channel.\n",
        "\n",
        "2. **Custom Dataset Class**:\n",
        "   A subclass of `torch.utils.data.Dataset` called `CustomImageDataset` is defined. This class:\n",
        "\n",
        "   * Accepts a DataFrame containing image paths and labels.\n",
        "   * Loads an image at a given index using PIL.\n",
        "   * Applies the defined transformations (if any).\n",
        "   * Returns a tuple `(image_tensor, label)` for that index.\n",
        "\n",
        "This setup allows efficient and structured loading of image-label pairs into PyTorch `DataLoader`s for training and validation.\n"
      ],
      "metadata": {
        "id": "1uYcaFZgxPQn"
      }
    },
    {
      "cell_type": "code",
      "source": [
        "from torchvision import transforms\n",
        "from torch.utils.data import Dataset, DataLoader\n",
        "from PIL import Image\n",
        "\n",
        "transform = transforms.Compose([\n",
        "    transforms.Resize((299, 299)),\n",
        "    transforms.ToTensor(),\n",
        "    transforms.Normalize(mean=[0.5]*3, std=[0.5]*3)\n",
        "])\n",
        "\n",
        "class CustomImageDataset(Dataset):\n",
        "    def __init__(self, dataframe, transform=None):\n",
        "        self.dataframe = dataframe.reset_index(drop=True)\n",
        "        self.transform = transform\n",
        "\n",
        "    def __len__(self):\n",
        "        return len(self.dataframe)\n",
        "\n",
        "    def __getitem__(self, idx):\n",
        "        img_path = self.dataframe.loc[idx, 'file_path']\n",
        "        label = int(self.dataframe.loc[idx, 'label'])\n",
        "\n",
        "        image = Image.open(img_path).convert('RGB')\n",
        "        if self.transform:\n",
        "            image = self.transform(image)\n",
        "\n",
        "        return image, label\n"
      ],
      "metadata": {
        "id": "ANON_SwMQ0dC"
      },
      "execution_count": null,
      "outputs": []
    },
    {
      "cell_type": "markdown",
      "source": [
        "This block prepares the training and validation data for the model by creating PyTorch-compatible datasets and data loaders.\n",
        "\n",
        "First, the `CustomImageDataset` class (defined earlier) is used to wrap the training and validation DataFrames (`train_df` and `val_df`) along with the image transformation pipeline (`transform`). This creates `train_dataset` and `val_dataset`, which are responsible for loading and preprocessing individual images and their labels.\n",
        "\n",
        "Then, `DataLoader` is used to wrap each dataset into iterable objects, `train_loader` and `val_loader`. These loaders handle batching (with a batch size of 16) and shuffling (enabled for training to improve generalization, but disabled for validation to keep consistency). The `DataLoader` efficiently feeds data to the model during training and evaluation.\n"
      ],
      "metadata": {
        "id": "bWXeI3vB6FWw"
      }
    },
    {
      "cell_type": "code",
      "source": [
        "train_dataset = CustomImageDataset(train_df, transform=transform)\n",
        "val_dataset = CustomImageDataset(val_df, transform=transform)\n",
        "\n",
        "train_loader = DataLoader(train_dataset, batch_size=16, shuffle=True)\n",
        "val_loader = DataLoader(val_dataset, batch_size=16, shuffle=False)\n"
      ],
      "metadata": {
        "id": "H3VP95hcQ16V"
      },
      "execution_count": null,
      "outputs": []
    },
    {
      "cell_type": "markdown",
      "source": [
        "This code initializes the image classification model using the Xception architecture from the `timm` library, preloaded with weights trained on the ImageNet dataset. It customizes the model for a binary classification task by setting `num_classes=2`, then moves it to the appropriate device (GPU or CPU) for training. To guide learning, it sets up the cross-entropy loss function, which measures how well the model's predictions match the true labels. Finally, it uses the Adam optimizer with a learning rate of 0.0001 to adjust the model's weights efficiently during training.\n"
      ],
      "metadata": {
        "id": "nmXda2ny5jL5"
      }
    },
    {
      "cell_type": "code",
      "source": [
        "model = timm.create_model('xception', pretrained=True, num_classes=2)\n",
        "model = model.to(device)\n",
        "criterion = nn.CrossEntropyLoss()\n",
        "optimizer = optim.Adam(model.parameters(), lr=1e-4)\n"
      ],
      "metadata": {
        "colab": {
          "base_uri": "https://localhost:8080/"
        },
        "id": "rFn2tWY1ncKP",
        "outputId": "97f9c7c6-7e9e-40da-ead7-407512cbf14f"
      },
      "execution_count": null,
      "outputs": [
        {
          "output_type": "stream",
          "name": "stderr",
          "text": [
            "/usr/local/lib/python3.11/dist-packages/timm/models/_factory.py:126: UserWarning: Mapping deprecated model name xception to current legacy_xception.\n",
            "  model = create_fn(\n"
          ]
        }
      ]
    },
    {
      "cell_type": "markdown",
      "source": [
        "This block of code defines and executes the training and evaluation process for the image classification model over multiple epochs.\n",
        "\n",
        "The `train_one_epoch` function trains the model for one full pass through the training data. It sets the model to training mode (`model.train()`), loops over batches of images and labels, moves the data to the appropriate device (GPU/CPU), performs forward propagation to get predictions, calculates the loss, and updates the model’s weights through backpropagation and the optimizer. It also tracks the average loss and accuracy for the epoch.\n",
        "\n",
        "The `evaluate` function is used to assess the model’s performance on the validation set without updating weights. It switches the model to evaluation mode (`model.eval()`), disables gradient calculation for efficiency (`torch.no_grad()`), and computes the validation accuracy.\n",
        "\n",
        "Finally, the training loop runs for a defined number of epochs (`num_epochs = 5`), calling the training and evaluation functions in each iteration. After every epoch, it prints the training loss, training accuracy, and validation accuracy to monitor performance.\n"
      ],
      "metadata": {
        "id": "ohvUcanW5xWc"
      }
    },
    {
      "cell_type": "code",
      "source": [
        "def train_one_epoch(model, loader):\n",
        "    model.train()\n",
        "    total, correct, running_loss = 0, 0, 0.0\n",
        "    for images, labels in loader:\n",
        "        images, labels = images.to(device), labels.to(device)\n",
        "        outputs = model(images)\n",
        "        loss = criterion(outputs, labels)\n",
        "\n",
        "        optimizer.zero_grad()\n",
        "        loss.backward()\n",
        "        optimizer.step()\n",
        "\n",
        "        running_loss += loss.item()\n",
        "        _, predicted = outputs.max(1)\n",
        "        total += labels.size(0)\n",
        "        correct += predicted.eq(labels).sum().item()\n",
        "\n",
        "    return running_loss/len(loader), correct/total\n",
        "\n",
        "def evaluate(model, loader):\n",
        "    model.eval()\n",
        "    total, correct = 0, 0\n",
        "    with torch.no_grad():\n",
        "        for images, labels in loader:\n",
        "            images, labels = images.to(device), labels.to(device)\n",
        "            outputs = model(images)\n",
        "            _, predicted = outputs.max(1)\n",
        "            total += labels.size(0)\n",
        "            correct += predicted.eq(labels).sum().item()\n",
        "    return correct/total\n",
        "\n",
        "num_epochs = 5\n",
        "for epoch in range(num_epochs):\n",
        "    train_loss, train_acc = train_one_epoch(model, train_loader)\n",
        "    val_acc = evaluate(model, val_loader)\n",
        "    print(f'Epoch {epoch+1}/{num_epochs} — '\n",
        "          f'Train loss: {train_loss:.4f}, Train acc: {train_acc:.4f}, '\n",
        "          f'Val acc: {val_acc:.4f}')\n"
      ],
      "metadata": {
        "colab": {
          "base_uri": "https://localhost:8080/"
        },
        "id": "PlVbeslSniU5",
        "outputId": "cde81edd-b89d-4ad5-8bf2-e07abc69f0b2"
      },
      "execution_count": null,
      "outputs": [
        {
          "output_type": "stream",
          "name": "stdout",
          "text": [
            "Epoch 1/5 — Train loss: 0.0624, Train acc: 0.9892, Val acc: 0.9989\n",
            "Epoch 2/5 — Train loss: 0.0024, Train acc: 1.0000, Val acc: 0.9989\n",
            "Epoch 3/5 — Train loss: 0.0032, Train acc: 0.9997, Val acc: 0.9989\n",
            "Epoch 4/5 — Train loss: 0.0042, Train acc: 0.9991, Val acc: 0.9989\n",
            "Epoch 5/5 — Train loss: 0.0159, Train acc: 0.9972, Val acc: 0.9989\n"
          ]
        }
      ]
    },
    {
      "cell_type": "code",
      "source": [
        "final_val_acc = evaluate(model, val_loader)\n",
        "print(f\"Final Validation Accuracy: {final_val_acc:.4f}\")\n"
      ],
      "metadata": {
        "colab": {
          "base_uri": "https://localhost:8080/"
        },
        "id": "U1T2s45oky8Z",
        "outputId": "c2ade6b8-d1fc-4712-cdd1-f7976d89147b"
      },
      "execution_count": null,
      "outputs": [
        {
          "output_type": "stream",
          "name": "stdout",
          "text": [
            "Final Validation Accuracy: 0.9989\n"
          ]
        }
      ]
    },
    {
      "cell_type": "markdown",
      "source": [
        "This code evaluates the model on the validation set and displays a confusion matrix to visualize performance. It collects the true and predicted labels, computes the confusion matrix, and then plots it using the defined class names `'AI'` and `'real'`. This helps identify how well the model distinguishes between the two classes.\n"
      ],
      "metadata": {
        "id": "_m1_-fAg65nW"
      }
    },
    {
      "cell_type": "code",
      "source": [
        "from sklearn.metrics import confusion_matrix, ConfusionMatrixDisplay\n",
        "\n",
        "y_true, y_pred = [], []\n",
        "\n",
        "model.eval()\n",
        "with torch.no_grad():\n",
        "    for images, labels in val_loader:\n",
        "        images = images.to(device)\n",
        "        outputs = model(images)\n",
        "        _, preds = torch.max(outputs, 1)\n",
        "        y_true.extend(labels.cpu().numpy())\n",
        "        y_pred.extend(preds.cpu().numpy())\n",
        "\n",
        "cm = confusion_matrix(y_true, y_pred)\n",
        "\n",
        "# Define class names explicitly\n",
        "class_names = ['AI', 'real']\n",
        "\n",
        "# Pass the defined class_names to ConfusionMatrixDisplay\n",
        "ConfusionMatrixDisplay(cm, display_labels=class_names).plot()\n"
      ],
      "metadata": {
        "colab": {
          "base_uri": "https://localhost:8080/",
          "height": 466
        },
        "id": "ucNewZyDm1_3",
        "outputId": "e34e7da7-e3ed-470f-b66c-fc79764ea727"
      },
      "execution_count": null,
      "outputs": [
        {
          "output_type": "execute_result",
          "data": {
            "text/plain": [
              "<sklearn.metrics._plot.confusion_matrix.ConfusionMatrixDisplay at 0x7f4cc050bc50>"
            ]
          },
          "metadata": {},
          "execution_count": 43
        },
        {
          "output_type": "display_data",
          "data": {
            "text/plain": [
              "<Figure size 640x480 with 2 Axes>"
            ],
            "image/png": "[encoded data removed]"
          },
          "metadata": {}
        }
      ]
    },
    {
      "cell_type": "markdown",
      "source": [
        "This block evaluates the trained model on the validation set and provides a detailed performance summary. It first collects the true and predicted labels across all batches without updating the model (in evaluation mode). Then, it prints a **classification report** showing precision, recall, and F1-score for each class, along with a **confusion matrix** to visualize the counts of true vs. predicted labels. This gives a clear overview of how well the model performs on each category (`AI` and `real`).\n"
      ],
      "metadata": {
        "id": "1dWK9BzR7B4C"
      }
    },
    {
      "cell_type": "code",
      "source": [
        "from sklearn.metrics import confusion_matrix, classification_report\n",
        "\n",
        "y_true = []\n",
        "y_pred = []\n",
        "\n",
        "model.eval()\n",
        "with torch.no_grad():\n",
        "    for images, labels in val_loader:\n",
        "        images = images.to(device)\n",
        "        labels = labels.to(device)\n",
        "        outputs = model(images)\n",
        "        preds = torch.argmax(outputs, dim=1)\n",
        "\n",
        "        y_true.extend(labels.cpu().numpy())\n",
        "        y_pred.extend(preds.cpu().numpy())\n",
        "\n",
        "print(classification_report(y_true, y_pred))\n",
        "print(confusion_matrix(y_true, y_pred))\n"
      ],
      "metadata": {
        "colab": {
          "base_uri": "https://localhost:8080/"
        },
        "id": "iSEvQsT82qkh",
        "outputId": "30167f92-5220-4011-f383-3e354e4067cb"
      },
      "execution_count": null,
      "outputs": [
        {
          "output_type": "stream",
          "name": "stdout",
          "text": [
            "              precision    recall  f1-score   support\n",
            "\n",
            "           0       1.00      1.00      1.00       441\n",
            "           1       1.00      1.00      1.00       440\n",
            "\n",
            "    accuracy                           1.00       881\n",
            "   macro avg       1.00      1.00      1.00       881\n",
            "weighted avg       1.00      1.00      1.00       881\n",
            "\n",
            "[[441   0]\n",
            " [  1 439]]\n"
          ]
        }
      ]
    },
    {
      "cell_type": "markdown",
      "source": [
        "This function, `predict_image`, allows you to use your trained model to classify a **single image**. Here's what it does:\n",
        "\n",
        "1. **Loads and preprocesses** the image using the same transformation pipeline used during training (resizing, normalization, etc.).\n",
        "2. **Adds a batch dimension** to the image so it can be passed through the model (since PyTorch models expect batched input).\n",
        "3. **Disables gradient computation** with `torch.no_grad()` and runs the image through the model in evaluation mode.\n",
        "4. **Gets the predicted class** index using `torch.max`, then converts it to the actual class label using the provided `class_names` list (e.g., `[\"AI\", \"real\"]`).\n",
        "\n",
        "This is useful for testing your model on individual images after training.\n"
      ],
      "metadata": {
        "id": "ZA14qm8e7N7a"
      }
    },
    {
      "cell_type": "code",
      "source": [
        "from PIL import Image\n",
        "\n",
        "def predict_image(img_path, model, transform, class_names):\n",
        "    # Load image and apply same transforms as training\n",
        "    image = Image.open(img_path).convert(\"RGB\")\n",
        "    image = transform(image).unsqueeze(0).to(device)  # Add batch dimension\n",
        "\n",
        "    model.eval()  # Set to eval mode\n",
        "    with torch.no_grad():\n",
        "        output = model(image)\n",
        "        _, pred = torch.max(output, 1)\n",
        "\n",
        "    return class_names[pred.item()]\n",
        "\n",
        "\n",
        "\n"
      ],
      "metadata": {
        "id": "TpnBsx1tnGNf"
      },
      "execution_count": null,
      "outputs": []
    },
    {
      "cell_type": "code",
      "source": [
        "#image path\n",
        "img_path = '/kaggle/input/ai-vs-human-generated-dataset/test_data_v2/0065d47a13fc4608a55be23d02a0f523.jpg'\n",
        "\n",
        "# Same transform as training\n",
        "transform = transforms.Compose([\n",
        "    transforms.Resize((299, 299)),\n",
        "    transforms.ToTensor(),\n",
        "    transforms.Normalize(mean=[0.5]*3, std=[0.5]*3)\n",
        "])\n",
        "\n",
        "#class labels\n",
        "class_names = ['AI', 'real']\n",
        "\n",
        "result = predict_image(img_path,model, transform, class_names)\n",
        "print(f\"Prediction: {result}\")\n"
      ],
      "metadata": {
        "colab": {
          "base_uri": "https://localhost:8080/"
        },
        "id": "1EF7h_vorWaV",
        "outputId": "acc07790-71b6-40aa-9cd2-65fae22aecdd"
      },
      "execution_count": null,
      "outputs": [
        {
          "output_type": "stream",
          "name": "stdout",
          "text": [
            "Prediction: AI\n"
          ]
        }
      ]
    },
    {
      "cell_type": "code",
      "source": [
        "from google.colab import drive\n",
        "drive.mount('/content/drive')\n",
        "\n",
        "# Then save to a folder in your drive\n",
        "torch.save(model.state_dict(), '/content/drive/MyDrive/real_vs_fake_SD_classification_model.pth')\n"
      ],
      "metadata": {
        "colab": {
          "base_uri": "https://localhost:8080/"
        },
        "outputId": "323fc778-ac78-44ad-c465-3b388b2fd510",
        "id": "XA-ZQyG74CY2"
      },
      "execution_count": null,
      "outputs": [
        {
          "output_type": "stream",
          "name": "stdout",
          "text": [
            "Mounted at /content/drive\n"
          ]
        }
      ]
    }
  ]
}